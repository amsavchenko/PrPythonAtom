{
 "cells": [
  {
   "cell_type": "code",
   "execution_count": 1,
   "metadata": {},
   "outputs": [],
   "source": [
    "from gensim.models.fasttext import FastText\n",
    "from operator import itemgetter\n",
    "import numpy as np\n",
    "import pandas as pd"
   ]
  },
  {
   "cell_type": "code",
   "execution_count": 2,
   "metadata": {},
   "outputs": [],
   "source": [
    "from nltk.stem import WordNetLemmatizer\n",
    "lemmatizer = WordNetLemmatizer()"
   ]
  },
  {
   "cell_type": "code",
   "execution_count": 3,
   "metadata": {},
   "outputs": [],
   "source": [
    "from nltk.stem.porter import PorterStemmer\n",
    "porter_stemmer = PorterStemmer()"
   ]
  },
  {
   "cell_type": "code",
   "execution_count": 4,
   "metadata": {},
   "outputs": [],
   "source": [
    "import string\n",
    "\n",
    "exclude = set(string.punctuation)"
   ]
  },
  {
   "cell_type": "code",
   "execution_count": 5,
   "metadata": {},
   "outputs": [],
   "source": [
    "model = FastText.load('imdb_model')"
   ]
  },
  {
   "cell_type": "code",
   "execution_count": 6,
   "metadata": {},
   "outputs": [],
   "source": [
    "import os\n",
    "string = ''\n",
    "f = open(os.path.expanduser('~/PycharmProjects/everything/new_better_descriptions.txt'), 'r')\n",
    "string += f.read()\n",
    "f.close()"
   ]
  },
  {
   "cell_type": "code",
   "execution_count": 7,
   "metadata": {},
   "outputs": [],
   "source": [
    "descr = string.split('\\n')\n",
    "name_list = []"
   ]
  },
  {
   "cell_type": "code",
   "execution_count": 8,
   "metadata": {},
   "outputs": [],
   "source": [
    "descr = [x for x in descr if x[:x.find('%$')+3:x.find('@@@')] != '']"
   ]
  },
  {
   "cell_type": "code",
   "execution_count": 9,
   "metadata": {},
   "outputs": [],
   "source": [
    "for i in descr:\n",
    "    name_list.append(i[:i.find('%$')] + i[i.find('@@@')+3:])"
   ]
  },
  {
   "cell_type": "code",
   "execution_count": 10,
   "metadata": {},
   "outputs": [],
   "source": [
    "for i in range(len(descr)):\n",
    "    descr[i] = descr[i][descr[i].find('%$')+3:descr[i].find('@@@')]"
   ]
  },
  {
   "cell_type": "code",
   "execution_count": 11,
   "metadata": {},
   "outputs": [],
   "source": [
    "from imdb import IMDb\n",
    "imdb = IMDb()"
   ]
  },
  {
   "cell_type": "code",
   "execution_count": 12,
   "metadata": {},
   "outputs": [],
   "source": [
    "def get_description_by_id(id):\n",
    "    movie = imdb.get_movie(id)\n",
    "    movie_description = movie.get('plot')\n",
    "    movie_description = \"\".join(i for i in movie_description if i not in exclude)\n",
    "    return movie_description.lower().replace('(', ' ').replace(')', ' ').replace('.', ' ')"
   ]
  },
  {
   "cell_type": "code",
   "execution_count": 13,
   "metadata": {},
   "outputs": [
    {
     "data": {
      "text/plain": [
       "'def get_description_by_id_2(id):\\n    movie = imdb.get_movie(id)\\n    movie_description = movie.get(\\'plot\\')\\n    movie_description = \"\".join(i for i in movie_description if i not in exclude)\\n    movie_description = movie_description[:movie_description.find(\\'::\\')]\\n    return movie_description.lower()'"
      ]
     },
     "execution_count": 13,
     "metadata": {},
     "output_type": "execute_result"
    }
   ],
   "source": [
    "'''def get_description_by_id_2(id):\n",
    "    movie = imdb.get_movie(id)\n",
    "    movie_description = movie.get('plot')\n",
    "    movie_description = \"\".join(i for i in movie_description if i not in exclude)\n",
    "    movie_description = movie_description[:movie_description.find('::')]\n",
    "    return movie_description.lower()'''"
   ]
  },
  {
   "cell_type": "code",
   "execution_count": 14,
   "metadata": {},
   "outputs": [],
   "source": [
    "stop_list = ['kkk', 'wcw', 'uwwf', '4x4', 'tjs', 'são', 'rós', 'vfw', 'léa']"
   ]
  },
  {
   "cell_type": "code",
   "execution_count": 15,
   "metadata": {},
   "outputs": [],
   "source": [
    "def get_smart_word_vec(word):\n",
    "    word_list = word.split(' ')\n",
    "    for i in range(len(word_list)):\n",
    "        word_list[i] = lemmatizer.lemmatize(word_list[i])\n",
    "        # word_list[i] = porter_stemmer.stem(word_list[i])\n",
    "    new_str = ' '.join(word_list)\n",
    "    return model.wv.word_vec(new_str)"
   ]
  },
  {
   "cell_type": "code",
   "execution_count": 16,
   "metadata": {},
   "outputs": [],
   "source": [
    "descr_vectors = []\n",
    "\n",
    "for i in descr:\n",
    "    descr_vectors.append(get_smart_word_vec(i))"
   ]
  },
  {
   "cell_type": "code",
   "execution_count": 17,
   "metadata": {},
   "outputs": [],
   "source": [
    "def cosine_similarity(v1, v2):\n",
    "    return (v1 @ v2) / (np.linalg.norm(v1) * np.linalg.norm(v2))"
   ]
  },
  {
   "cell_type": "code",
   "execution_count": 18,
   "metadata": {},
   "outputs": [],
   "source": [
    "def get_mean(v1, v2):\n",
    "    return (v1 + v2) / 2.0\n",
    "# np.mean(v1, axis=0)"
   ]
  },
  {
   "cell_type": "code",
   "execution_count": 19,
   "metadata": {},
   "outputs": [],
   "source": [
    "def find_neighbours(id):\n",
    "    neighbours = []\n",
    "    vector = get_smart_word_vec(get_description_by_id(id))\n",
    "    for i in range(len(descr_vectors)):\n",
    "        neighbours.append((i, cosine_similarity(descr_vectors[i], vector)))\n",
    "    neighbours.sort(key=itemgetter(1))\n",
    "    neighbours.reverse()\n",
    "    for i in range(20):\n",
    "        print(name_list[neighbours[i][0]])"
   ]
  },
  {
   "cell_type": "code",
   "execution_count": 20,
   "metadata": {},
   "outputs": [
    {
     "data": {
      "text/plain": [
       "1651"
      ]
     },
     "execution_count": 20,
     "metadata": {},
     "output_type": "execute_result"
    }
   ],
   "source": [
    "len(descr_vectors)"
   ]
  },
  {
   "cell_type": "code",
   "execution_count": 21,
   "metadata": {},
   "outputs": [
    {
     "name": "stdout",
     "output_type": "stream",
     "text": [
      "Mud https://www.imdb.com/title/tt1935179/\n",
      "Neighbors https://www.imdb.com/title/tt2004420/\n",
      "Toy Story https://www.imdb.com/title/tt0114709/\n",
      "The Princess Diaries https://www.imdb.com/title/tt0247638/\n",
      "The Devil's Candy https://www.imdb.com/title/tt4935372/\n",
      "Alice in Wonderland https://www.imdb.com/title/tt1014759/\n",
      "A Streetcar Named Desire https://www.imdb.com/title/tt0044081/\n",
      "Borgman https://www.imdb.com/title/tt1954315/\n",
      "Amores Perros https://www.imdb.com/title/tt0245712/\n",
      "Snatch https://www.imdb.com/title/tt0208092/\n",
      "Signs https://www.imdb.com/title/tt0286106/\n",
      "Fun Size https://www.imdb.com/title/tt1663143/\n",
      "Hedgehog in the Fog https://www.imdb.com/title/tt0073099/\n",
      "The Karate Kid https://www.imdb.com/title/tt0087538/\n",
      "West Side Story https://www.imdb.com/title/tt0055614/\n",
      "Ironiya sudby, ili S legkim parom! https://www.imdb.com/title/tt0073179/\n",
      "Casper https://www.imdb.com/title/tt0112642/\n",
      "A League of Their Own https://www.imdb.com/title/tt0104694/\n",
      "Cooties https://www.imdb.com/title/tt2490326/\n",
      "Jennifer's Body https://www.imdb.com/title/tt1131734/\n"
     ]
    }
   ],
   "source": [
    "find_neighbours('0114709') # История игрушек"
   ]
  },
  {
   "cell_type": "code",
   "execution_count": 22,
   "metadata": {},
   "outputs": [
    {
     "name": "stdout",
     "output_type": "stream",
     "text": [
      "The Hangover https://www.imdb.com/title/tt1119646/\n",
      "A League of Their Own https://www.imdb.com/title/tt0104694/\n",
      "Neighbors https://www.imdb.com/title/tt2004420/\n",
      "The Inbetweeners Movie https://www.imdb.com/title/tt1716772/\n",
      "The Florida Project https://www.imdb.com/title/tt5649144/\n",
      "American Pie https://www.imdb.com/title/tt0163651/\n",
      "She's the Man https://www.imdb.com/title/tt0454945/\n",
      "Wadjda https://www.imdb.com/title/tt2258858/\n",
      "Breakfast at Tiffany's https://www.imdb.com/title/tt0054698/\n",
      "Imagine https://www.imdb.com/title/tt1846492/\n",
      "Short Term 12 https://www.imdb.com/title/tt2370248/\n",
      "Love Actually https://www.imdb.com/title/tt0314331/\n",
      "Buffy the Vampire Slayer https://www.imdb.com/title/tt0118276/\n",
      "Saving Mr. Banks https://www.imdb.com/title/tt2140373/\n",
      "Midnight Cowboy https://www.imdb.com/title/tt0064665/\n",
      "Step Up 2: The Streets https://www.imdb.com/title/tt1023481/\n",
      "The Big Short https://www.imdb.com/title/tt1596363/\n",
      "The Greatest Showman https://www.imdb.com/title/tt1485796/\n",
      "I Love You, Beth Cooper https://www.imdb.com/title/tt1032815/\n",
      "The Spectacular Now https://www.imdb.com/title/tt1714206/\n"
     ]
    }
   ],
   "source": [
    "find_neighbours('1636826') # Проект Х"
   ]
  },
  {
   "cell_type": "code",
   "execution_count": 23,
   "metadata": {},
   "outputs": [
    {
     "name": "stdout",
     "output_type": "stream",
     "text": [
      "The Terminator https://www.imdb.com/title/tt1548850/\n",
      "Terminator 2: Judgment Day https://www.imdb.com/title/tt0103064/\n",
      "Black Panther https://www.imdb.com/title/tt1825683/\n",
      "Downfall https://www.imdb.com/title/tt0363163/\n",
      "Captain America: Civil War https://www.imdb.com/title/tt3498820/\n",
      "The Matrix https://www.imdb.com/title/tt0405094/\n",
      "Rise of the Planet of the Apes https://www.imdb.com/title/tt1318514/\n",
      "Master and Commander: The Far Side of the World https://www.imdb.com/title/tt0311113/\n",
      "Avatar https://www.imdb.com/title/tt0499549/\n",
      "The Expanse https://www.imdb.com/title/tt3230854/\n",
      "Transformers: Age of Extinction https://www.imdb.com/title/tt2109248/\n",
      "Terminator: The Sarah Connor Chronicles https://www.imdb.com/title/tt0851851/\n",
      "Deadpool https://www.imdb.com/title/tt1431045/\n",
      "The Deep https://www.imdb.com/title/tt1764275/\n",
      "Godzilla https://www.imdb.com/title/tt0831387/\n",
      "The Incredibles https://www.imdb.com/title/tt0317705/\n",
      "The Bridge on the River Kwai https://www.imdb.com/title/tt0050212/\n",
      "Star Trek: Into Darkness https://www.imdb.com/title/tt1408101/\n",
      "Spider-Man 2 https://www.imdb.com/title/tt0316654/\n",
      "X-Men: Days of Future Past https://www.imdb.com/title/tt1877832/\n"
     ]
    }
   ],
   "source": [
    "find_neighbours('0088247') # Терминатор"
   ]
  },
  {
   "cell_type": "code",
   "execution_count": 24,
   "metadata": {},
   "outputs": [
    {
     "name": "stdout",
     "output_type": "stream",
     "text": [
      "Twelve Monkeys https://www.imdb.com/title/tt3508840/\n",
      "This Must Be the Place https://www.imdb.com/title/tt1440345/\n",
      "A Slave of Love https://www.imdb.com/title/tt0075119/\n",
      "Wind River https://www.imdb.com/title/tt5362988/\n",
      "Terminator: The Sarah Connor Chronicles https://www.imdb.com/title/tt0851851/\n",
      "The Lost City of Z https://www.imdb.com/title/tt1212428/\n",
      "Searching for Sugar Man https://www.imdb.com/title/tt2125608/\n",
      "Captain America: The Winter Soldier https://www.imdb.com/title/tt1843866/\n",
      "Zero Dark Thirty https://www.imdb.com/title/tt1790885/\n",
      "24 https://www.imdb.com/title/tt0285331/\n",
      "Harry Potter and the Order of the Phoenix https://www.imdb.com/title/tt0373889/\n",
      "The Silence of the Lambs https://www.imdb.com/title/tt0102926/\n",
      "Minority Report https://www.imdb.com/title/tt0181689/\n",
      "Moon https://www.imdb.com/title/tt1182345/\n",
      "Close Encounters of the Third Kind https://www.imdb.com/title/tt0075860/\n",
      "Star Trek https://www.imdb.com/title/tt0796366/\n",
      "Night at the Museum https://www.imdb.com/title/tt0477347/\n",
      "Hanna https://www.imdb.com/title/tt0993842/\n",
      "The Angels' Share https://www.imdb.com/title/tt1924394/\n",
      "Billy Lynn's Long Halftime Walk https://www.imdb.com/title/tt2513074/\n"
     ]
    }
   ],
   "source": [
    "find_neighbours('2879552') # 11.22.63"
   ]
  },
  {
   "cell_type": "code",
   "execution_count": 25,
   "metadata": {},
   "outputs": [
    {
     "name": "stdout",
     "output_type": "stream",
     "text": [
      "Avatar https://www.imdb.com/title/tt0499549/\n",
      "Maze Runner: The Scorch Trials https://www.imdb.com/title/tt4046784/\n",
      "The African Queen https://www.imdb.com/title/tt0043265/\n",
      "Xingu https://www.imdb.com/title/tt2142055/\n",
      "The Deep https://www.imdb.com/title/tt1764275/\n",
      "The 100 https://www.imdb.com/title/tt2661044/\n",
      "The Incredibles https://www.imdb.com/title/tt0317705/\n",
      "Terminator: The Sarah Connor Chronicles https://www.imdb.com/title/tt0851851/\n",
      "Battlestar Galactica https://www.imdb.com/title/tt0407362/\n",
      "Black Panther https://www.imdb.com/title/tt1825683/\n",
      "Master and Commander: The Far Side of the World https://www.imdb.com/title/tt0311113/\n",
      "Dark Angel https://www.imdb.com/title/tt0204993/\n",
      "28 Days Later... https://www.imdb.com/title/tt0289043/\n",
      "Letters from Iwo Jima https://www.imdb.com/title/tt0498380/\n",
      "Platoon https://www.imdb.com/title/tt0091763/\n",
      "Pacific Rim https://www.imdb.com/title/tt1663662/\n",
      "The Way Back https://www.imdb.com/title/tt1023114/\n",
      "Aliens https://www.imdb.com/title/tt0090605/\n",
      "Hostiles https://www.imdb.com/title/tt5478478/\n",
      "The Zookeeper's Wife https://www.imdb.com/title/tt1730768/\n"
     ]
    }
   ],
   "source": [
    "find_neighbours('0499549') # Аватар"
   ]
  },
  {
   "cell_type": "code",
   "execution_count": null,
   "metadata": {},
   "outputs": [],
   "source": []
  }
 ],
 "metadata": {
  "kernelspec": {
   "display_name": "Python 3",
   "language": "python",
   "name": "python3"
  },
  "language_info": {
   "codemirror_mode": {
    "name": "ipython",
    "version": 3
   },
   "file_extension": ".py",
   "mimetype": "text/x-python",
   "name": "python",
   "nbconvert_exporter": "python",
   "pygments_lexer": "ipython3",
   "version": "3.6.5"
  }
 },
 "nbformat": 4,
 "nbformat_minor": 2
}

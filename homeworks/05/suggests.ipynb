{
 "cells": [
  {
   "cell_type": "code",
   "execution_count": 1,
   "metadata": {},
   "outputs": [],
   "source": [
    "import pandas as pd"
   ]
  },
  {
   "cell_type": "code",
   "execution_count": 2,
   "metadata": {},
   "outputs": [],
   "source": [
    "class TrieNode(object):\n",
    "  \n",
    "    def __init__(self, char: str):\n",
    "        self.char = char\n",
    "        self.children = []\n",
    "        self.word_finished = False"
   ]
  },
  {
   "cell_type": "code",
   "execution_count": 3,
   "metadata": {},
   "outputs": [],
   "source": [
    "def add(root, word: str):\n",
    "    word = word.lower().replace('ё', 'е')\n",
    "    node = root\n",
    "    for char in word:\n",
    "        found_in_child = False\n",
    "        for child in node.children:\n",
    "            if child.char == char:\n",
    "                node = child\n",
    "                found_in_child = True\n",
    "                break\n",
    "        if not found_in_child:\n",
    "            new_node = TrieNode(char)\n",
    "            node.children.append(new_node)\n",
    "            node = new_node\n",
    "    node.word_finished = True\n",
    "    \n",
    "def prefix_descent(root, prefix: str):\n",
    "    node = root\n",
    "    #if prefix == '':\n",
    "        #return False\n",
    "    for char in prefix:\n",
    "        char_not_found = True\n",
    "        for child in node.children:\n",
    "            if child.char == char:\n",
    "                char_not_found = False\n",
    "                node = child\n",
    "                break\n",
    "        if char_not_found:\n",
    "            return False\n",
    "    return node\n",
    "\n",
    "\n",
    "def display(node, string, level, list_of_strings):\n",
    "    if node.word_finished:\n",
    "        res_string = ''.join(string)\n",
    "        list_of_strings.append(res_string)\n",
    "    else:\n",
    "        for child in node.children:\n",
    "            string.insert(level, child.char)\n",
    "            display(child, string.copy(), level+1, list_of_strings)\n",
    "            string.pop()\n",
    "\n",
    "\n",
    "def make_suggestions(root, prefix):\n",
    "    prefix = prefix.lower()\n",
    "    node = prefix_descent(root, prefix)\n",
    "    list_of_strings = []\n",
    "    string = []\n",
    "    if type(node) == bool:\n",
    "        list_of_strings.append(prefix)\n",
    "    else:\n",
    "        display(node, string, 0, list_of_strings)\n",
    "        for i in range(len(list_of_strings)):\n",
    "            list_of_strings[i] = prefix + list_of_strings[i]\n",
    "    return list_of_strings"
   ]
  },
  {
   "cell_type": "code",
   "execution_count": 4,
   "metadata": {},
   "outputs": [],
   "source": [
    "root = TrieNode('*')"
   ]
  },
  {
   "cell_type": "markdown",
   "metadata": {},
   "source": [
    "я спарсил различные топы кинопоиска, положил их в гугл-доки для дальнейшего использования\n",
    "\n",
    "\n",
    "в сумме получилось 750 фильмов"
   ]
  },
  {
   "cell_type": "code",
   "execution_count": 5,
   "metadata": {},
   "outputs": [],
   "source": [
    "# ТОП-250 Кинопоиска\n",
    "movie_list = pd.read_csv('https://drive.google.com/uc?export=download&id=1srwUs-v41i88I_YouNIJqJDw5AtAfgNh', names=['movies'])\n",
    "\n",
    "for i in movie_list['movies']:\n",
    "    add(root, i.replace('\\xa0', ' '))"
   ]
  },
  {
   "cell_type": "code",
   "execution_count": 6,
   "metadata": {},
   "outputs": [],
   "source": [
    "# новые фильмы 2018 \n",
    "top2018 = pd.read_csv('https://drive.google.com/uc?export=download&id=18nOWmrA_pRPJC7zEeSl9Q7R8NB-fxkDa', names=['movies']) \n",
    "\n",
    "for i in top2018['movies']:\n",
    "    add(root, i)"
   ]
  },
  {
   "cell_type": "code",
   "execution_count": 7,
   "metadata": {},
   "outputs": [],
   "source": [
    "# ТОП 2017 года\n",
    "top2017 = pd.read_csv('https://drive.google.com/uc?export=download&id=1WPf4OSqMxLlyccSYM14xEDQgpwF_Gjht', names=['movies'])\n",
    "\n",
    "for i in top2017['movies']:\n",
    "    add(root, i)"
   ]
  },
  {
   "cell_type": "code",
   "execution_count": 8,
   "metadata": {},
   "outputs": [],
   "source": [
    "# ТОП 2016 года\n",
    "top2016 = pd.read_csv('https://drive.google.com/uc?export=download&id=1S1i7yfQrTDFcoCfglC9vf71PZ4T5gvcf', names=['movies']) \n",
    "\n",
    "for i in top2016['movies']:\n",
    "    add(root, i)"
   ]
  },
  {
   "cell_type": "code",
   "execution_count": 9,
   "metadata": {},
   "outputs": [],
   "source": [
    "# ТОП 2015 года\n",
    "top2015 = pd.read_csv('https://drive.google.com/uc?export=download&id=1n_6SSWKt5P74atJ7z6Kv9ZrH3fMOHNKJ', names=['movies']) \n",
    "\n",
    "for i in top2015['movies']:\n",
    "    add(root, i)"
   ]
  },
  {
   "cell_type": "code",
   "execution_count": 10,
   "metadata": {},
   "outputs": [],
   "source": [
    "# ТОП 2014 года\n",
    "top2014 = pd.read_csv('https://drive.google.com/uc?export=download&id=1_84zXf4M5ge7sLPqcloHFxDeqgl8m_Hm', names=['movies']) \n",
    "\n",
    "for i in top2014['movies']:\n",
    "    add(root, i)"
   ]
  },
  {
   "cell_type": "code",
   "execution_count": 11,
   "metadata": {},
   "outputs": [],
   "source": [
    "# ТОП 2013 года\n",
    "top2013 = pd.read_csv('https://drive.google.com/uc?export=download&id=1S9uwn9p0KqO86Wi7Y196-DzswcZrAiHj', names=['movies']) \n",
    "\n",
    "for i in top2013['movies']:\n",
    "    add(root, i)"
   ]
  },
  {
   "cell_type": "code",
   "execution_count": 12,
   "metadata": {},
   "outputs": [],
   "source": [
    "# ТОП 2012 года\n",
    "top2012 = pd.read_csv('https://drive.google.com/uc?export=download&id=1_m0Ylczs3XIMc2Vb-fxsNWfNFmBFVTHR', names=['movies']) \n",
    "\n",
    "for i in top2012['movies']:\n",
    "    add(root, i)"
   ]
  },
  {
   "cell_type": "code",
   "execution_count": 13,
   "metadata": {},
   "outputs": [],
   "source": [
    "# ТОП 2011 года\n",
    "top2011 = pd.read_csv('https://drive.google.com/uc?export=download&id=1D3DI0egBJMYTCIhrKgGu7VgFGFufn1bs', names=['movies']) \n",
    "\n",
    "for i in top2011['movies']:\n",
    "    add(root, i)"
   ]
  },
  {
   "cell_type": "code",
   "execution_count": 14,
   "metadata": {},
   "outputs": [],
   "source": [
    "# ТОП 2010 года\n",
    "top2010 = pd.read_csv('https://drive.google.com/uc?export=download&id=1AgAq_PNLjAL27qnP3rkSHvd1L-yuS9Ne', names=['movies']) \n",
    "\n",
    "for i in top2010['movies']:\n",
    "    add(root, i)"
   ]
  },
  {
   "cell_type": "code",
   "execution_count": 15,
   "metadata": {},
   "outputs": [],
   "source": [
    "# ТОП 2009 года\n",
    "top2009 = pd.read_csv('https://drive.google.com/uc?export=download&id=1v_20baml040y-U7sIxsA1LDycgDo4o5g', names=['movies']) \n",
    "\n",
    "for i in top2009['movies']:\n",
    "    add(root, i)"
   ]
  },
  {
   "cell_type": "code",
   "execution_count": 16,
   "metadata": {},
   "outputs": [],
   "source": [
    "# ТОП 2010-ых годов\n",
    "top2010s = pd.read_csv('https://drive.google.com/uc?export=download&id=10By2ok81Ywkq7HEmmqBrlkOV9Joq9hpZ', names=['movies']) \n",
    "\n",
    "for i in top2010s['movies']:\n",
    "    add(root, i)"
   ]
  },
  {
   "cell_type": "code",
   "execution_count": 17,
   "metadata": {},
   "outputs": [],
   "source": [
    "# ТОП 2000-ых годов\n",
    "top2000s = pd.read_csv('https://drive.google.com/uc?export=download&id=1_oQ79UDyxkI9vQSt60ToPiSQM64yFkzQ', names=['movies']) \n",
    "\n",
    "for i in top2000s['movies']:\n",
    "    add(root, i)"
   ]
  },
  {
   "cell_type": "code",
   "execution_count": 18,
   "metadata": {},
   "outputs": [],
   "source": [
    "# ТОП 1990-ых годов\n",
    "top1990s = pd.read_csv('https://drive.google.com/uc?export=download&id=1nYWRoADp69vq5yUCFyoryhYf7p4ADrrY', names=['movies']) \n",
    "\n",
    "for i in top1990s['movies']:\n",
    "    add(root, i)"
   ]
  },
  {
   "cell_type": "code",
   "execution_count": 19,
   "metadata": {},
   "outputs": [],
   "source": [
    "# ТОП 1980-ых годов\n",
    "top1980s = pd.read_csv('https://drive.google.com/uc?export=download&id=1wdeVKIZWFW4VMET_y2Zzu3ByVz7d1Cag', names=['movies']) \n",
    "\n",
    "for i in top1980s['movies']:\n",
    "    add(root, i)"
   ]
  },
  {
   "cell_type": "code",
   "execution_count": 20,
   "metadata": {},
   "outputs": [],
   "source": [
    "# ТОП 1970-ых годов\n",
    "top1970s = pd.read_csv('https://drive.google.com/uc?export=download&id=1S9F7yLROwD_S9jp5NCg6UBQtnBzsuGjR', names=['movies']) \n",
    "\n",
    "for i in top1970s['movies']:\n",
    "    add(root, i)"
   ]
  },
  {
   "cell_type": "code",
   "execution_count": 21,
   "metadata": {},
   "outputs": [],
   "source": [
    "# ТОП 1960-ых годов\n",
    "top1960s = pd.read_csv('https://drive.google.com/uc?export=download&id=1ZZKtiSIHEPu25mWb4-yVJFQ_TtJST2DK', names=['movies']) \n",
    "\n",
    "for i in top1960s['movies']:\n",
    "    add(root, i)"
   ]
  },
  {
   "cell_type": "code",
   "execution_count": 22,
   "metadata": {},
   "outputs": [],
   "source": [
    "# Oscar winners page 1\n",
    "oscar1 = pd.read_csv('https://drive.google.com/uc?export=download&id=1ckcoQwX_TzmnwAq0203_JkVJ-OfbAwOK', names=['movies']) \n",
    "\n",
    "for i in oscar1['movies']:\n",
    "    add(root, i)"
   ]
  },
  {
   "cell_type": "code",
   "execution_count": 23,
   "metadata": {},
   "outputs": [],
   "source": [
    "# Oscar winners page 2\n",
    "oscar2 = pd.read_csv('https://drive.google.com/uc?export=download&id=1_6e8u5-DULa8azmIVv7hu61Z44L_Yqaj', names=['movies']) \n",
    "\n",
    "for i in oscar2['movies']:\n",
    "    add(root, i)"
   ]
  },
  {
   "cell_type": "code",
   "execution_count": null,
   "metadata": {},
   "outputs": [],
   "source": []
  },
  {
   "cell_type": "markdown",
   "metadata": {},
   "source": [
    "не знаю, как это будет работать с фласком, но это пример как можно ввести префикс и получить все саджесты для него"
   ]
  },
  {
   "cell_type": "code",
   "execution_count": 35,
   "metadata": {},
   "outputs": [
    {
     "data": {
      "text/plain": [
       "['мстители: война бесконечности (2018)',\n",
       " 'мстители: эра альтрона (2015)',\n",
       " 'мстители (2012)']"
      ]
     },
     "execution_count": 35,
     "metadata": {},
     "output_type": "execute_result"
    }
   ],
   "source": [
    "make_suggestions(root, 'мс')"
   ]
  },
  {
   "cell_type": "code",
   "execution_count": 36,
   "metadata": {},
   "outputs": [
    {
     "data": {
      "text/plain": [
       "['бойцовский клуб (1999)',\n",
       " 'большой куш (2000)',\n",
       " 'больше чем секс (2010)',\n",
       " 'большая прогулка (1966)',\n",
       " 'богемская рапсодия (2018)',\n",
       " 'боги египта (2016)']"
      ]
     },
     "execution_count": 36,
     "metadata": {},
     "output_type": "execute_result"
    }
   ],
   "source": [
    "make_suggestions(root, 'бо')"
   ]
  },
  {
   "cell_type": "code",
   "execution_count": 37,
   "metadata": {},
   "outputs": [
    {
     "data": {
      "text/plain": [
       "['ррр']"
      ]
     },
     "execution_count": 37,
     "metadata": {},
     "output_type": "execute_result"
    }
   ],
   "source": [
    "make_suggestions(root, 'ррр')"
   ]
  },
  {
   "cell_type": "code",
   "execution_count": 38,
   "metadata": {},
   "outputs": [
    {
     "data": {
      "text/plain": [
       "['гарри поттер и узник азкабана (2004)',\n",
       " 'гарри поттер и философский камень (2001)',\n",
       " 'гарри поттер и дары смерти: часть ii (2011)',\n",
       " 'гарри поттер и дары смерти: часть\\xa0i (2010)',\n",
       " 'гарри поттер и принц-полукровка (2009)',\n",
       " 'гараж (1979)']"
      ]
     },
     "execution_count": 38,
     "metadata": {},
     "output_type": "execute_result"
    }
   ],
   "source": [
    "make_suggestions(root, 'гар')"
   ]
  },
  {
   "cell_type": "code",
   "execution_count": null,
   "metadata": {},
   "outputs": [],
   "source": []
  }
 ],
 "metadata": {
  "kernelspec": {
   "display_name": "Python 3",
   "language": "python",
   "name": "python3"
  },
  "language_info": {
   "codemirror_mode": {
    "name": "ipython",
    "version": 3
   },
   "file_extension": ".py",
   "mimetype": "text/x-python",
   "name": "python",
   "nbconvert_exporter": "python",
   "pygments_lexer": "ipython3",
   "version": "3.6.5"
  }
 },
 "nbformat": 4,
 "nbformat_minor": 2
}

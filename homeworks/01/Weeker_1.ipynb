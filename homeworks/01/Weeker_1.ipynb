{
 "cells": [
  {
   "cell_type": "markdown",
   "metadata": {},
   "source": [
    "# Недельник 1\n",
    "\n",
    "Как было сказано на лекции, на текущей неделе вы получаете ежедневные задания. Система оценки следующая: в первый день(четверг) вы делаете первый pull-request в ветку homework_01. Потом каждый день делаете коммит, он будет автоматически привязывать к pull-request. Если задачка не сделана в течении 2-х дней она сгорает. (Можно четверг сделать в четверг и пятницу)"
   ]
  },
  {
   "cell_type": "markdown",
   "metadata": {},
   "source": [
    "# Четверг"
   ]
  },
  {
   "cell_type": "code",
   "execution_count": 19,
   "metadata": {},
   "outputs": [],
   "source": [
    "#TODO Сделайте калькулятор произвольных выражений, операции следующие: +, -, /, ^, *. скобок нет\n",
    "def calculate(input_str):\n",
    "    is_division = False\n",
    "    list_of_input = input_str.split(\" \")\n",
    "\n",
    "    while len(list_of_input) > 0:\n",
    "        is_sign = input_str.find(\"^\")\n",
    "        if is_sign != -1:\n",
    "            good_str = str(list_of_input[0])\n",
    "            good_list = good_str.split(\"^\")\n",
    "            number1 = int(good_list[0])\n",
    "            number2 = int(good_list[1])\n",
    "            res = str(number1 ** number2)\n",
    "\n",
    "            new_list = list_of_input[:is_sign - 1:]\n",
    "            new_list.append(res)\n",
    "            new_list += list_of_input[is_sign::]\n",
    "\n",
    "            list_of_input = new_list\n",
    "\n",
    "            str1 = ' '.join(list_of_input)\n",
    "            input_str = str1\n",
    "        else:\n",
    "            break\n",
    "\n",
    "    while len(list_of_input) > 0:\n",
    "\n",
    "        is_sign = input_str.find(\"/\")\n",
    "        if is_sign != -1:\n",
    "            division_sign = list_of_input.index(\"/\")\n",
    "\n",
    "            number1 = int(list_of_input[division_sign - 1])\n",
    "            number2 = int(list_of_input[division_sign + 1])\n",
    "\n",
    "            res = str(number1 / number2)\n",
    "\n",
    "            new_list = list_of_input[:division_sign - 1:]\n",
    "            new_list.append(res)\n",
    "            new_list += list_of_input[division_sign + 2::]\n",
    "\n",
    "            list_of_input = new_list\n",
    "\n",
    "            str1 = ' '.join(list_of_input)\n",
    "            input_str = str1\n",
    "            is_division = True\n",
    "        else:\n",
    "            break\n",
    "\n",
    "    while len(list_of_input) > 0:\n",
    "\n",
    "        is_sign = input_str.find(\"*\")\n",
    "        if is_sign != -1:\n",
    "            division_sign = list_of_input.index(\"*\")\n",
    "\n",
    "            if is_division:\n",
    "                number1 = float(list_of_input[division_sign - 1])\n",
    "                number2 = float(list_of_input[division_sign + 1])\n",
    "            else:\n",
    "                number1 = int(list_of_input[division_sign - 1])\n",
    "                number2 = int(list_of_input[division_sign + 1])\n",
    "\n",
    "            res = str(number1 * number2)\n",
    "\n",
    "            new_list = list_of_input[:division_sign - 1:]\n",
    "            new_list.append(res)\n",
    "            new_list += list_of_input[division_sign + 2::]\n",
    "\n",
    "            list_of_input = new_list\n",
    "\n",
    "            str1 = ' '.join(list_of_input)\n",
    "            input_str = str1\n",
    "        else:\n",
    "            break\n",
    "\n",
    "    while len(list_of_input) > 0:\n",
    "\n",
    "        is_sign = input_str.find(\"-\")\n",
    "        if is_sign != -1:\n",
    "            division_sign = list_of_input.index(\"-\")\n",
    "\n",
    "            if is_division:\n",
    "                number1 = float(list_of_input[division_sign - 1])\n",
    "                number2 = float(list_of_input[division_sign + 1])\n",
    "            else:\n",
    "                number1 = int(list_of_input[division_sign - 1])\n",
    "                number2 = int(list_of_input[division_sign + 1])\n",
    "\n",
    "            res = str(number1 - number2)\n",
    "\n",
    "            new_list = list_of_input[:division_sign - 1:]\n",
    "            new_list.append(res)\n",
    "            new_list += list_of_input[division_sign + 2::]\n",
    "\n",
    "            list_of_input = new_list\n",
    "\n",
    "            str1 = ' '.join(list_of_input)\n",
    "            input_str = str1\n",
    "        else:\n",
    "            break\n",
    "\n",
    "    while len(list_of_input) > 0:\n",
    "\n",
    "        is_sign = input_str.find(\"+\")\n",
    "        if is_sign != -1:\n",
    "            division_sign = list_of_input.index(\"+\")\n",
    "\n",
    "            if is_division:\n",
    "                number1 = float(list_of_input[division_sign - 1])\n",
    "                number2 = float(list_of_input[division_sign + 1])\n",
    "            else:\n",
    "                number1 = int(list_of_input[division_sign - 1])\n",
    "                number2 = int(list_of_input[division_sign + 1])\n",
    "\n",
    "            res = str(number1 + number2)\n",
    "\n",
    "            new_list = list_of_input[:division_sign - 1:]\n",
    "            new_list.append(res)\n",
    "            new_list += list_of_input[division_sign + 2::]\n",
    "\n",
    "            list_of_input = new_list\n",
    "\n",
    "            str1 = ' '.join(list_of_input)\n",
    "            input_str = str1\n",
    "        else:\n",
    "            break\n",
    "\n",
    "    a = list_of_input[0]\n",
    "    if is_division:\n",
    "        return float(a)\n",
    "    else:\n",
    "        return int(a)"
   ]
  },
  {
   "cell_type": "code",
   "execution_count": 20,
   "metadata": {},
   "outputs": [],
   "source": [
    "assert calculate(\"2 + 2 * 2\") == 6\n",
    "assert calculate(\"345 / 5 * 21\") == 1449.\n",
    "assert calculate(\"3^3 - 10 + 41 * 3\") == 140\n",
    "assert calculate(\"42 / 7 * 32\") == 192.0\n",
    "\n",
    "#TODO Дополнить еще 2-мя своими тестами\n",
    "\n",
    "assert calculate(\"2^3 * 2 - 4\") == 12\n",
    "assert calculate(\"10 / 5 + 5 / 2\") == 4.5"
   ]
  },
  {
   "cell_type": "markdown",
   "metadata": {},
   "source": [
    "# Пятница"
   ]
  },
  {
   "cell_type": "code",
   "execution_count": 21,
   "metadata": {},
   "outputs": [],
   "source": [
    "#TODO метод разворачивающий строку HE2LO -> HELLO (число означает сколько раз встречается буква)\n",
    "\n",
    "def transform_string(inp_string):\n",
    "    compare = ['0', '1', '2', '3', '4', '5', '6', '7', '8', '9']\n",
    "    output_string = \"\"\n",
    "    coeff = \"\"\n",
    "    i = 0\n",
    "    while i < len(inp_string):\n",
    "        if inp_string[i] not in compare:\n",
    "            output_string += inp_string[i]\n",
    "        else:\n",
    "            while inp_string[i] in compare:\n",
    "                coeff += inp_string[i]\n",
    "                i += 1\n",
    "            number = int(coeff)\n",
    "            for j in range (number):\n",
    "                output_string += inp_string[i]\n",
    "            coeff = \"\"\n",
    "\n",
    "        i += 1\n",
    "    return output_string"
   ]
  },
  {
   "cell_type": "code",
   "execution_count": 22,
   "metadata": {},
   "outputs": [],
   "source": [
    "assert transform_string(\"HE2LO\") == \"HELLO\"\n",
    "assert transform_string(\"HI\") == \"HI\"\n",
    "assert transform_string(\"пр12ивет\") == \"приииииииииииивет\"\n",
    "assert transform_string(\"2л3у78н65тик\") == 'ллуууннннннннннннннннннннннннннннннннннннннннннннннннннннннннннннннннннннннннннннннтттттттттттттттттттттттттттттттттттттттттттттттттттттттттттттттттик'\n",
    "\n",
    "#TODO Дописать 2 своих теста\n",
    "\n",
    "assert transform_string(\"пи5ца\") == 'пиццццца'\n",
    "assert transform_string(\"CUL8R\") == 'CULRRRRRRRR'"
   ]
  },
  {
   "cell_type": "markdown",
   "metadata": {},
   "source": [
    "# Суббота"
   ]
  },
  {
   "cell_type": "code",
   "execution_count": 23,
   "metadata": {},
   "outputs": [],
   "source": [
    "#TODO метод выводящий статистику по строке, кол-во гласных, согласных, цифр, строчных букв, прописных букв\n",
    "# -*- coding: utf-8 -*-\n",
    "CONS = u\"бвгджзйклмнпрстфхцчшщ\"\n",
    "VOW = u\"аеёиоуыэюя\"\n",
    "\n",
    "def string_stat(inp_string):\n",
    "    vowels = consonant = numbers = lower_case = upper_case = 0\n",
    "\n",
    "    for i in range(len(inp_string)):\n",
    "\n",
    "        if inp_string[i].isupper() and inp_string[i].lower() in VOW:\n",
    "            vowels += 1\n",
    "        if inp_string[i].isupper() and inp_string[i].lower() in CONS:\n",
    "            consonant += 1\n",
    "        if inp_string[i] in VOW:\n",
    "            vowels += 1\n",
    "        if inp_string[i] in CONS:\n",
    "            consonant += 1\n",
    "        if inp_string[i].isdigit():\n",
    "            numbers += 1\n",
    "        if inp_string[i].islower():\n",
    "            lower_case += 1\n",
    "        if inp_string[i].isupper():\n",
    "            upper_case += 1\n",
    "\n",
    "    res = (vowels, consonant, numbers, lower_case, upper_case)\n",
    "    return(res)"
   ]
  },
  {
   "cell_type": "code",
   "execution_count": 24,
   "metadata": {},
   "outputs": [],
   "source": [
    "assert string_stat(\"Тевирп\") == (2, 4, 0, 5, 1)\n",
    "assert string_stat(\"КоРоВа4\") == (3, 3, 1, 3, 3)\n",
    "\n",
    "#TODO 2 своих теста\n",
    "\n",
    "assert string_stat(\"ПрИвЕтТ\") == (2, 5, 0, 3, 4)\n",
    "assert string_stat(\"1мЭЙл1\") == (1, 3, 2, 2, 2)"
   ]
  },
  {
   "cell_type": "markdown",
   "metadata": {},
   "source": [
    "# Воскресенье - ВЫХОДНОЙ"
   ]
  },
  {
   "cell_type": "markdown",
   "metadata": {},
   "source": [
    "# Понедельник"
   ]
  },
  {
   "cell_type": "code",
   "execution_count": 25,
   "metadata": {},
   "outputs": [],
   "source": [
    "#TODO инвертируйте словарь из k - [v_1, v_2] в v_1 [k_1]\n",
    "def dict_inverter(input_dict):\n",
    "\n",
    "    keys = list(input_dict.keys())\n",
    "    values = list(input_dict.values())\n",
    "    d = {}\n",
    "    for i in range(len(keys)):\n",
    "        for j in range(len(values[i])):\n",
    "            if values[i][j] in d:\n",
    "                a = [d[values[i][j]], keys[i]]\n",
    "                d[values[i][j]] = a\n",
    "            else:\n",
    "                d[values[i][j]] = keys[i]\n",
    "\n",
    "    return d"
   ]
  },
  {
   "cell_type": "code",
   "execution_count": 26,
   "metadata": {},
   "outputs": [],
   "source": [
    "assert dict_inverter({\"mango\" : [\"eatable\"], \"pillow\": [\"sleepable\"]}) == {\"eatable\": \"mango\", \"sleepable\": \"pillow\"}\n",
    "assert dict_inverter({\"mango\" : [\"eatable\", \"readable\"]}) == {\"readable\":\"mango\", \"eatable\":\"mango\"}\n",
    "assert dict_inverter({\"mango\" : [\"eatable\"], \"banana\": [\"eatable\"]}) == {\"eatable\": [\"mango\", \"banana\"]}\n",
    "\n",
    "\n",
    "#TODO Один свой тест\n",
    "assert dict_inverter({\"apple\": [\"food\"], \"cat\": [\"pet\"]}) == {\"food\": \"apple\", \"pet\": \"cat\"}"
   ]
  },
  {
   "cell_type": "markdown",
   "metadata": {},
   "source": [
    "# Вторник"
   ]
  },
  {
   "cell_type": "code",
   "execution_count": 30,
   "metadata": {},
   "outputs": [],
   "source": [
    "#TODO вывести уникальные элементы массива\n",
    "def uniq_array(input_arr):\n",
    "    really_uniq_array = []\n",
    "    for i in input_arr:\n",
    "        if i not in really_uniq_array:\n",
    "            really_uniq_array.append(i)\n",
    "    return(really_uniq_array)\n",
    "\n",
    "\n"
   ]
  },
  {
   "cell_type": "code",
   "execution_count": 31,
   "metadata": {},
   "outputs": [],
   "source": [
    "assert uniq_array([0]) == [0]\n",
    "assert uniq_array([0, 1, 2, 3]) == [0, 1, 2, 3]\n",
    "assert uniq_array([\"f\", \"t\", \"f\"]) == ['f', 't']\n",
    "assert uniq_array(['rt', 'rt']) == ['rt']\n"
   ]
  },
  {
   "cell_type": "code",
   "execution_count": null,
   "metadata": {},
   "outputs": [],
   "source": []
  }
 ],
 "metadata": {
  "kernelspec": {
   "display_name": "Python 3",
   "language": "python",
   "name": "python3"
  },
  "language_info": {
   "codemirror_mode": {
    "name": "ipython",
    "version": 3
   },
   "file_extension": ".py",
   "mimetype": "text/x-python",
   "name": "python",
   "nbconvert_exporter": "python",
   "pygments_lexer": "ipython3",
   "version": "3.6.5"
  }
 },
 "nbformat": 4,
 "nbformat_minor": 2
}

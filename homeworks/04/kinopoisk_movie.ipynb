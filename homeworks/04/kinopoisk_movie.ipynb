{
 "cells": [
  {
   "cell_type": "code",
   "execution_count": 1,
   "metadata": {},
   "outputs": [],
   "source": [
    "import requests\n",
    "from bs4 import BeautifulSoup\n",
    "import json\n",
    "import re"
   ]
  },
  {
   "cell_type": "markdown",
   "metadata": {},
   "source": [
    "название на русском, год, название в оригинале, страна, жанр, актеры (не убираются актеры озвучки, пускай останутся через / ), слоган, режиссер, возр ограничения, длительность, описание, рейтинг на кинопоиске, рейтинг на imdb, ссылка на трейлер"
   ]
  },
  {
   "cell_type": "code",
   "execution_count": 2,
   "metadata": {},
   "outputs": [],
   "source": [
    "import pandas as pd"
   ]
  },
  {
   "cell_type": "code",
   "execution_count": 3,
   "metadata": {},
   "outputs": [
    {
     "data": {
      "text/plain": [
       "\"\\nwriter = pd.ExcelWriter(name_rus + '.xlsx')\\nmovie.to_excel(writer,'Sheet1')\\nwriter.save()\\n\""
      ]
     },
     "execution_count": 3,
     "metadata": {},
     "output_type": "execute_result"
    }
   ],
   "source": [
    "'''\n",
    "writer = pd.ExcelWriter(name_rus + '.xlsx')\n",
    "movie.to_excel(writer,'Sheet1')\n",
    "writer.save()\n",
    "'''"
   ]
  },
  {
   "cell_type": "code",
   "execution_count": null,
   "metadata": {},
   "outputs": [],
   "source": []
  },
  {
   "cell_type": "code",
   "execution_count": 4,
   "metadata": {},
   "outputs": [],
   "source": [
    "def get_name_rus(soup):\n",
    "    name_rus = ''\n",
    "    if soup.find('h1', {'class': 'moviename-big'}):\n",
    "        name_rus = soup.find('h1', {'class': 'moviename-big'}).text\n",
    "    return name_rus"
   ]
  },
  {
   "cell_type": "code",
   "execution_count": 5,
   "metadata": {},
   "outputs": [],
   "source": [
    "def get_year(soup):\n",
    "    year = ''\n",
    "    if soup.find_all('div', {'style': 'position: relative'}):\n",
    "        year = soup.find_all('div', {'style': 'position: relative'})[0].text[1:-1].replace('\\n', ' ')\n",
    "    return year"
   ]
  },
  {
   "cell_type": "code",
   "execution_count": 6,
   "metadata": {},
   "outputs": [],
   "source": [
    "def get_name_eng(soup):\n",
    "    name_eng = ''\n",
    "    if soup.find('span', {'itemprop': 'alternativeHeadline'}):\n",
    "        name_eng = soup.find('span', {'itemprop': 'alternativeHeadline'}).text\n",
    "    return name_eng"
   ]
  },
  {
   "cell_type": "code",
   "execution_count": 7,
   "metadata": {},
   "outputs": [],
   "source": [
    "def get_country(soup):\n",
    "    country = ''\n",
    "    if soup.find_all('div', {'style': 'position: relative'}):\n",
    "        country = soup.find_all('div', {'style': 'position: relative'})[1].text[1:-1] \n",
    "    return country"
   ]
  },
  {
   "cell_type": "code",
   "execution_count": 8,
   "metadata": {},
   "outputs": [],
   "source": [
    "def get_genre(soup):\n",
    "    genre = ''\n",
    "    if soup.find('span', {'itemprop': 'genre'}):\n",
    "        genre = soup.find('span', {'itemprop': 'genre'}).text\n",
    "    return genre"
   ]
  },
  {
   "cell_type": "code",
   "execution_count": 9,
   "metadata": {},
   "outputs": [],
   "source": [
    "def get_actors(soup):\n",
    "    actors = ''\n",
    "    for i in range (len(soup.find_all('li', {'itemprop': 'actors'}))):\n",
    "        actors += soup.find_all('li', {'itemprop': 'actors'})[i].text + ', '\n",
    "    #actors = actors[:-7].replace(', ...,', ' /')\n",
    "    return actors[:-7].replace(', ...,', ' /')"
   ]
  },
  {
   "cell_type": "code",
   "execution_count": 10,
   "metadata": {},
   "outputs": [],
   "source": [
    "def get_slogan(soup):\n",
    "    #slogan = ''\n",
    "    if soup.find('td', {'style': 'color: #555'}):\n",
    "        return soup.find('td', {'style': 'color: #555'}).text\n",
    "    return ''"
   ]
  },
  {
   "cell_type": "code",
   "execution_count": 11,
   "metadata": {},
   "outputs": [],
   "source": [
    "def get_director(soup):\n",
    "    if soup.find('td', {'itemprop': 'director'}):\n",
    "        return soup.find('td', {'itemprop': 'director'}).text\n",
    "    return ''"
   ]
  },
  {
   "cell_type": "code",
   "execution_count": 12,
   "metadata": {},
   "outputs": [],
   "source": [
    "def get_age_limit(soup):\n",
    "    if soup.find('span', {'style': 'margin-left: 3px'}):\n",
    "        return soup.find('span', {'style': 'margin-left: 3px'}).text\n",
    "    return ''"
   ]
  },
  {
   "cell_type": "code",
   "execution_count": 13,
   "metadata": {},
   "outputs": [],
   "source": [
    "def get_duration(soup):\n",
    "    if soup.find('td', {'class': 'time'}):\n",
    "        return soup.find('td', {'class': 'time'}).text\n",
    "    return ''"
   ]
  },
  {
   "cell_type": "code",
   "execution_count": 14,
   "metadata": {},
   "outputs": [],
   "source": [
    "def get_description(soup):\n",
    "    if soup.find('div', {'class': 'brand_words film-synopsys'}):\n",
    "        return soup.find('div', {'class': 'brand_words film-synopsys'}).text.replace('\\xa0', ' ').replace('\\x97', '').replace('\\x85', '')\n",
    "    return ''"
   ]
  },
  {
   "cell_type": "code",
   "execution_count": 15,
   "metadata": {},
   "outputs": [],
   "source": [
    "def get_rating_kinopoisk(soup):\n",
    "    if soup.find('span', {'class': 'rating_ball'}):\n",
    "        return soup.find('span', {'class': 'rating_ball'}).text\n",
    "    return ''"
   ]
  },
  {
   "cell_type": "code",
   "execution_count": 16,
   "metadata": {},
   "outputs": [],
   "source": [
    "def get_rating_imdb(soup):\n",
    "    if soup.find('div', {'style': 'color:#999;font:100 11px tahoma, verdana'}):\n",
    "        rating_imdb_str = soup.find('div', {'style': 'color:#999;font:100 11px tahoma, verdana'}).text\n",
    "        return rating_imdb_str[rating_imdb_str.find(':')+2 : rating_imdb_str.find('(')-1]\n",
    "    return ''"
   ]
  },
  {
   "cell_type": "code",
   "execution_count": 17,
   "metadata": {},
   "outputs": [],
   "source": [
    "def get_link_on_trailer(soup):\n",
    "    if soup.find('a', {'id': 'movie-trailer-block-link'}):\n",
    "        short_link = soup.find('a', {'id': 'movie-trailer-block-link'}).get('href')\n",
    "        if short_link.rfind('-') > 0:\n",
    "            short_link = short_link[:short_link[1:].find('/')+2] + short_link[short_link.rfind('-')+1:]\n",
    "        return 'https://www.kinopoisk.ru' + short_link\n",
    "    return ''"
   ]
  },
  {
   "cell_type": "code",
   "execution_count": 18,
   "metadata": {},
   "outputs": [],
   "source": [
    "from user_agent import generate_user_agent\n",
    "from time import sleep\n",
    "import numpy as np\n",
    "\n",
    "proxies_list = [{'http':'http://'+i} for i in ['67.149.217.254:10200',\n",
    "                '64.20.74.24:45554','62.37.237.101:8080',\n",
    "                '180.234.206.77:8080',\n",
    "                '78.11.85.13:8080','109.188.81.101:8080',\n",
    "                '139.59.17.113:8080','191.179.147.46:11421',\n",
    "                '111.68.99.42:8080','80.241.219.66:3128',\n",
    "                '201.20.94.106:8080','216.229.120.173:45554',\n",
    "                '116.58.247.31:3128','103.9.115.142:3128',\n",
    "                '82.164.99.193:10200','80.188.79.138:8080',\n",
    "                '36.75.113.224:8080',\n",
    "                '1.20.204.163:8080','97.77.49.151:45554',\n",
    "                '178.54.44.24:8080',\n",
    "                '65.182.136.153:45554', '111.76.129.223:808',\n",
    "                 '203.142.81.205'+':'+'8080', \n",
    "                '42.202.35.185'+':'+'8118', '189.16.249.114'+':'+'8080',\n",
    "                '66.162.122.24'+':'+'8080']]\n",
    "\n",
    "\n",
    "def get_request(movie_id):\n",
    "    sleep(np.random.random())\n",
    "    url = 'https://www.kinopoisk.ru/film/' + str(movie_id)\n",
    "    return requests.get(url, headers={'User-Agent': generate_user_agent()}, \n",
    "                        proxies=proxies_list[np.random.randint(len(proxies_list))])"
   ]
  },
  {
   "cell_type": "code",
   "execution_count": 27,
   "metadata": {},
   "outputs": [],
   "source": [
    "def movie_scraping(movie_id):\n",
    "    r = get_request(movie_id)\n",
    "    soup = BeautifulSoup(r.text, 'html.parser')\n",
    "    name_rus = get_name_rus(soup)\n",
    "    year = get_year(soup)\n",
    "    name_eng = get_name_eng(soup)\n",
    "    country = get_country(soup)\n",
    "    genre = get_genre(soup)\n",
    "    actors = get_actors(soup)\n",
    "    slogan = get_slogan(soup)\n",
    "    director = get_director(soup)\n",
    "    age_limit = get_age_limit(soup)\n",
    "    duration = get_duration(soup)\n",
    "    description = get_description(soup)\n",
    "    rating_kinopoisk = get_rating_kinopoisk(soup)\n",
    "    rating_imdb = get_rating_imdb(soup)\n",
    "    link_on_trailer = get_link_on_trailer(soup)\n",
    "    \n",
    "    movie = pd.Series()\n",
    "    movie['id'] = movie_id\n",
    "    movie['Ссылка'] = 'https://www.kinopoisk.ru/film/' + str(movie_id)\n",
    "    movie['Название'] = name_rus \n",
    "    movie['Год выпуска'] = year\n",
    "    movie['Оригинальное название'] = name_eng\n",
    "    movie['Жанр'] = genre\n",
    "    movie['Актеры'] = actors\n",
    "    movie['Страна'] = country\n",
    "    movie['Слоган'] = slogan\n",
    "    movie['Режиссер'] = director\n",
    "    movie['Возрастные ограничения'] = age_limit\n",
    "    movie['Длительность'] = duration\n",
    "    movie['Описание'] = description\n",
    "    movie['Рейтинг на Кинопоиске'] = rating_kinopoisk\n",
    "    movie['Рейтинг на IMDB'] = rating_imdb\n",
    "    movie['Ссылка на трейлер'] = link_on_trailer\n",
    "    \n",
    "    return movie"
   ]
  },
  {
   "cell_type": "code",
   "execution_count": 30,
   "metadata": {},
   "outputs": [
    {
     "data": {
      "text/plain": [
       "id                                                                      770\n",
       "Ссылка                                    https://www.kinopoisk.ru/film/770\n",
       "Название                                          Одиннадцать друзей Оушена\n",
       "Год выпуска                                                            2001\n",
       "Оригинальное название                                        Ocean's Eleven\n",
       "Жанр                                                      триллер, криминал\n",
       "Актеры                    Джордж Клуни, Брэд Питт, Мэтт Дэймон, Джулия Р...\n",
       "Страна                                                                  США\n",
       "Слоган                                                «Делайте ваши ставки»\n",
       "Режиссер                                                   Стивен Содерберг\n",
       "Возрастные ограничения                           зрителям, достигшим 12 лет\n",
       "Длительность                                               116 мин. / 01:56\n",
       "Описание                  После выхода из тюрьмы вора Дэнни Оушена не пр...\n",
       "Рейтинг на Кинопоиске                                                 8.099\n",
       "Рейтинг на IMDB                                                        7.80\n",
       "Ссылка на трейлер            https://www.kinopoisk.ru/film/770/video/13451/\n",
       "dtype: object"
      ]
     },
     "execution_count": 30,
     "metadata": {},
     "output_type": "execute_result"
    }
   ],
   "source": [
    "movie_scraping(770)"
   ]
  },
  {
   "cell_type": "code",
   "execution_count": 25,
   "metadata": {},
   "outputs": [
    {
     "name": "stdout",
     "output_type": "stream",
     "text": [
      "id                                                                   891337\n",
      "Ссылка                                 https://www.kinopoisk.ru/film/891337\n",
      "Название                                             11.22.63 (мини-сериал)\n",
      "Год выпуска                                                  2016 (1 сезон)\n",
      "Оригинальное название                                              11.22.63\n",
      "Жанр                                   фантастика, триллер, драма, детектив\n",
      "Актеры                    Джеймс Франко, Сара Гадон, Джордж МакКэй, Крис...\n",
      "Страна                                                                  США\n",
      "Слоган                      «When you fight the past, the past fights back»\n",
      "Режиссер                     Джеймс Стронг, Фред Туа, Джон Дэвид Коулз, ...\n",
      "Возрастные ограничения                           зрителям, достигшим 16 лет\n",
      "Длительность                                                60 мин. / 01:00\n",
      "Описание                  Учитель английского языка отправляется в прошл...\n",
      "Рейтинг на Кинопоиске                                                 7.806\n",
      "Рейтинг на IMDB                                                        8.20\n",
      "Ссылка на трейлер         https://www.kinopoisk.ru/film/891337/video/129...\n",
      "dtype: object \n",
      "\n"
     ]
    }
   ],
   "source": [
    "movie_scraping(891337)"
   ]
  },
  {
   "cell_type": "code",
   "execution_count": 26,
   "metadata": {},
   "outputs": [
    {
     "name": "stdout",
     "output_type": "stream",
     "text": [
      "id                                                                   464963\n",
      "Ссылка                                 https://www.kinopoisk.ru/film/464963\n",
      "Название                                 Игра престолов (сериал 2011 – ...)\n",
      "Год выпуска                                                2011 (8 сезонов)\n",
      "Оригинальное название                                       Game of Thrones\n",
      "Жанр                         фэнтези, боевик, драма, мелодрама, приключения\n",
      "Актеры                    Питер Динклэйдж, Лина Хиди, Эмилия Кларк, Кит ...\n",
      "Страна                                                  США, Великобритания\n",
      "Слоган                                                  «Победа или смерть»\n",
      "Режиссер                       Дэвид Наттер, Алан Тейлор, Алекс Грейвз, ...\n",
      "Возрастные ограничения                           зрителям, достигшим 18 лет\n",
      "Длительность                                                        55 мин.\n",
      "Описание                  К концу подходит время благоденствия, и лето, ...\n",
      "Рейтинг на Кинопоиске                                                 9.011\n",
      "Рейтинг на IMDB                                                        9.50\n",
      "Ссылка на трейлер         https://www.kinopoisk.ru/film/464963/video/141...\n",
      "dtype: object \n",
      "\n"
     ]
    }
   ],
   "source": [
    "movie_scraping(464963)"
   ]
  },
  {
   "cell_type": "code",
   "execution_count": null,
   "metadata": {},
   "outputs": [],
   "source": []
  }
 ],
 "metadata": {
  "kernelspec": {
   "display_name": "Python 3",
   "language": "python",
   "name": "python3"
  },
  "language_info": {
   "codemirror_mode": {
    "name": "ipython",
    "version": 3
   },
   "file_extension": ".py",
   "mimetype": "text/x-python",
   "name": "python",
   "nbconvert_exporter": "python",
   "pygments_lexer": "ipython3",
   "version": "3.6.5"
  }
 },
 "nbformat": 4,
 "nbformat_minor": 2
}
